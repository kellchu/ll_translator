{
 "cells": [
  {
   "cell_type": "code",
   "execution_count": 6,
   "id": "b0e0a24d",
   "metadata": {},
   "outputs": [
    {
     "name": "stdout",
     "output_type": "stream",
     "text": [
      "Collecting textblob\n",
      "  Downloading textblob-0.17.1-py2.py3-none-any.whl (636 kB)\n",
      "\u001b[2K     \u001b[90m━━━━━━━━━━━━━━━━━━━━━━━━━━━━━━━━━━━━━━━\u001b[0m \u001b[32m636.8/636.8 kB\u001b[0m \u001b[31m1.5 MB/s\u001b[0m eta \u001b[36m0:00:00\u001b[0m00:01\u001b[0m00:01\u001b[0m\n",
      "\u001b[?25hRequirement already satisfied: nltk>=3.1 in /Users/kellychung/opt/anaconda3/lib/python3.9/site-packages (from textblob) (3.7)\n",
      "Requirement already satisfied: regex>=2021.8.3 in /Users/kellychung/opt/anaconda3/lib/python3.9/site-packages (from nltk>=3.1->textblob) (2022.7.9)\n",
      "Requirement already satisfied: tqdm in /Users/kellychung/opt/anaconda3/lib/python3.9/site-packages (from nltk>=3.1->textblob) (4.64.1)\n",
      "Requirement already satisfied: click in /Users/kellychung/opt/anaconda3/lib/python3.9/site-packages (from nltk>=3.1->textblob) (8.0.4)\n",
      "Requirement already satisfied: joblib in /Users/kellychung/opt/anaconda3/lib/python3.9/site-packages (from nltk>=3.1->textblob) (1.1.0)\n",
      "Installing collected packages: textblob\n",
      "Successfully installed textblob-0.17.1\n",
      "Note: you may need to restart the kernel to use updated packages.\n"
     ]
    }
   ],
   "source": [
    "pip install googletrans\n",
    "pip install textblob\n"
   ]
  },
  {
   "cell_type": "code",
   "execution_count": 1,
   "id": "1e59a268",
   "metadata": {},
   "outputs": [],
   "source": [
    "from tkinter import *\n",
    "from tkinter import ttk,messagebox\n",
    "import googletrans\n",
    "import textblob \n"
   ]
  },
  {
   "cell_type": "code",
   "execution_count": 2,
   "id": "173a4b05",
   "metadata": {},
   "outputs": [],
   "source": [
    "#the size of the screen\n",
    "root = Tk()\n",
    "root.title(\"Google Translator\")\n",
    "root.geometry(\"1080x400\") \n",
    "\n",
    "#function that changes the label \n",
    "def label_change():\n",
    "    c=combo1.get()\n",
    "    c1=combo2.get()\n",
    "    label1.configure(text=c)\n",
    "    label2.configure(text=c1)\n",
    "    root.after(1000, label_change)\n",
    "\n",
    "def translate_now():\n",
    "    global language\n",
    "    try:\n",
    "        text_=text1.get(1.0, END)\n",
    "        c2=combo1.get()\n",
    "        c3=combo2.get()\n",
    "        if(text_):\n",
    "            words=textblob.TextBlob(text_)\n",
    "            lan=words.detect_language()\n",
    "            for i,j in language.items():\n",
    "                if(j==c3):\n",
    "                    lan_=i\n",
    "            words=words.translate(from_lang=lan,to=str(lan_))\n",
    "            text2.delete(1.0, END)\n",
    "            text2.insert(END,words)\n",
    "    except Exception as e:\n",
    "        messagebox.showerror(\"googletrans\",\"please try again\")\n",
    "        print(e)\n",
    "#arrow\n",
    "#arrow_image=PhotoImage(file=\"\")\n",
    "#iamge_label=Label(root,image=arrow_image,width=150)\n",
    "#image_label.place(x=460,y=50)\n",
    "\n",
    "#make a list of languages \n",
    "language=googletrans.LANGUAGES\n",
    "languageV=list(language.values())\n",
    "lang1=language.keys()\n",
    "\n",
    "#set the default language as Korean & set the display setting \n",
    "combo1=ttk.Combobox(root,values=languageV, font=\"Roboto 14\", state=\"r\")\n",
    "combo1.place(x=110, y=20)\n",
    "combo1.set(\"English\")\n",
    "\n",
    "label1=Label(root, text=\"English\", font=\"segoe 30 bold\", bg=\"white\", width=18, bd=5,\n",
    "            relief=GROOVE)\n",
    "label1.place(x=10, y=50)\n",
    "\n",
    "#making a black box underneath the \"Korean\" label which will be used as frame\n",
    "f=Frame(root,bg=\"Black\", bd=5)\n",
    "f.place(x=10, y=118, width=440, height=210)\n",
    "\n",
    "#white background where you can type what you want to translate\n",
    "text1=Text(f,font=\"Robote 20\", bg=\"white\", relief=GROOVE, wrap=WORD)\n",
    "text1.place(x=0,y=0,width=430,height=200)\n",
    "\n",
    "### not working \n",
    "scrollbar1=Scrollbar(f)\n",
    "scrollbar1.pack(side=\"right\", fill=\"y\")\n",
    "\n",
    "scrollbar1.configure(command=text1.yview)\n",
    "text1.configure(yscrollcommand=scrollbar1.set)\n",
    "\n",
    "#create a box where user can select language \n",
    "combo2=ttk.Combobox(root, values=languageV, font=\"RobotV 14\", state=\"r\")\n",
    "combo2.place(x=730, y=20)\n",
    "combo2.set(\"SELECT LANGUAGE\")\n",
    "\n",
    "label2=Label(root, text=\"Korean\", font=\"segoe 30 bold\", bg=\"white\", width=18, bd=5,\n",
    "            relief=GROOVE)\n",
    "label2.place(x=620, y=50)\n",
    "\n",
    "#making a black box \n",
    "f1=Frame(root,bg=\"Black\", bd=5)\n",
    "f1.place(x=620, y=118, width=440, height=210)\n",
    "\n",
    "#white box\n",
    "text2=Text(f1,font=\"Robote 20\", bg=\"white\", relief=GROOVE, wrap=WORD)\n",
    "text2.place(x=0,y=0,width=430,height=200)\n",
    "\n",
    "### not working \n",
    "scrollbar2=Scrollbar(f1)\n",
    "scrollbar2.pack(side=\"right\", fill=\"y\")\n",
    "\n",
    "scrollbar2.configure(command=text2.yview)\n",
    "text2.configure(yscrollcommand=scrollbar2.set)\n",
    "\n",
    "#translate button\n",
    "translate=Button(root,text=\"Translate\", font=\"Roboto 15 bold italic\",\n",
    "                activebackground=\"purple\", cursor=\"hand2\", bd=5,\n",
    "                bg=\"red\", fg=\"white\", command=translate_now)\n",
    "translate.place(x=480, y=250)\n",
    "\n",
    "\n",
    "label_change()\n",
    "\n"
   ]
  },
  {
   "cell_type": "code",
   "execution_count": 3,
   "id": "968b8528",
   "metadata": {},
   "outputs": [
    {
     "name": "stderr",
     "output_type": "stream",
     "text": [
      "2023-05-24 22:24:57.203 python[2422:71613] Warning: Expected min height of view: (<NSButton: 0x7fd8b58bd130>) to be less than or equal to 30 but got a height of 32.000000. This error will be logged once per view in violation.\n",
      "2023-05-24 22:24:58.457 python[2422:71613] Warning: Expected min height of view: (<NSButton: 0x7fd8e614aa40>) to be less than or equal to 30 but got a height of 32.000000. This error will be logged once per view in violation.\n"
     ]
    },
    {
     "name": "stdout",
     "output_type": "stream",
     "text": [
      "HTTP Error 400: Bad Request\n"
     ]
    }
   ],
   "source": [
    "root.configure(bg=\"white\")\n",
    "root.mainloop()"
   ]
  },
  {
   "cell_type": "code",
   "execution_count": null,
   "id": "404f008d",
   "metadata": {},
   "outputs": [],
   "source": []
  }
 ],
 "metadata": {
  "kernelspec": {
   "display_name": "Python 3 (ipykernel)",
   "language": "python",
   "name": "python3"
  },
  "language_info": {
   "codemirror_mode": {
    "name": "ipython",
    "version": 3
   },
   "file_extension": ".py",
   "mimetype": "text/x-python",
   "name": "python",
   "nbconvert_exporter": "python",
   "pygments_lexer": "ipython3",
   "version": "3.9.13"
  }
 },
 "nbformat": 4,
 "nbformat_minor": 5
}
